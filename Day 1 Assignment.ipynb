{
 "cells": [
  {
   "cell_type": "code",
   "execution_count": 1,
   "id": "74285237-0deb-4b59-a181-a5311b87a1a4",
   "metadata": {},
   "outputs": [
    {
     "name": "stdout",
     "output_type": "stream",
     "text": [
      "Integer: 10 Type: <class 'int'>\n",
      "Float: 3.14 Type: <class 'float'>\n",
      "String: Hello, World! Type: <class 'str'>\n",
      "Boolean: True Type: <class 'bool'>\n"
     ]
    }
   ],
   "source": [
    "a = 10\n",
    "b = 3.14\n",
    "c = \"Hello, World!\"\n",
    "d = True\n",
    "print(\"Integer:\", a, \"Type:\", type(a))\n",
    "print(\"Float:\", b, \"Type:\", type(b))\n",
    "print(\"String:\", c, \"Type:\", type(c))\n",
    "print(\"Boolean:\", d, \"Type:\", type(d))"
   ]
  },
  {
   "cell_type": "code",
   "execution_count": null,
   "id": "b4b6d17b-279d-476c-8f65-a3a6cc27e84f",
   "metadata": {},
   "outputs": [],
   "source": []
  }
 ],
 "metadata": {
  "kernelspec": {
   "display_name": "Python 3 (ipykernel)",
   "language": "python",
   "name": "python3"
  },
  "language_info": {
   "codemirror_mode": {
    "name": "ipython",
    "version": 3
   },
   "file_extension": ".py",
   "mimetype": "text/x-python",
   "name": "python",
   "nbconvert_exporter": "python",
   "pygments_lexer": "ipython3",
   "version": "3.12.7"
  }
 },
 "nbformat": 4,
 "nbformat_minor": 5
}
